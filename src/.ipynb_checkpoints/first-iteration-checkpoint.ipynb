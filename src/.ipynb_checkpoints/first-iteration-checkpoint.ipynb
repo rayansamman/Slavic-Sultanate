{
 "cells": [
  {
   "cell_type": "code",
   "execution_count": 4,
   "metadata": {},
   "outputs": [],
   "source": [
    "import pandas as pd\n",
    "import matplotlib.pyplot as plt\n",
    "import statistics"
   ]
  },
  {
   "cell_type": "code",
   "execution_count": 5,
   "metadata": {},
   "outputs": [
    {
     "data": {
      "text/html": [
       "<div>\n",
       "<style scoped>\n",
       "    .dataframe tbody tr th:only-of-type {\n",
       "        vertical-align: middle;\n",
       "    }\n",
       "\n",
       "    .dataframe tbody tr th {\n",
       "        vertical-align: top;\n",
       "    }\n",
       "\n",
       "    .dataframe thead th {\n",
       "        text-align: right;\n",
       "    }\n",
       "</style>\n",
       "<table border=\"1\" class=\"dataframe\">\n",
       "  <thead>\n",
       "    <tr style=\"text-align: right;\">\n",
       "      <th></th>\n",
       "      <th>DI</th>\n",
       "      <th>TradeValue</th>\n",
       "      <th>RealmType</th>\n",
       "      <th>Enclave</th>\n",
       "      <th>LivingQuarters</th>\n",
       "      <th>ParcelSize</th>\n",
       "      <th>ParcelSizeUnit</th>\n",
       "    </tr>\n",
       "  </thead>\n",
       "  <tbody>\n",
       "    <tr>\n",
       "      <th>0</th>\n",
       "      <td>0</td>\n",
       "      <td>100000.0</td>\n",
       "      <td>Meadowlands</td>\n",
       "      <td>Crystalhollow</td>\n",
       "      <td>1439.0</td>\n",
       "      <td>10260.0</td>\n",
       "      <td>sqft</td>\n",
       "    </tr>\n",
       "  </tbody>\n",
       "</table>\n",
       "</div>"
      ],
      "text/plain": [
       "   DI  TradeValue    RealmType        Enclave  LivingQuarters  ParcelSize  \\\n",
       "0   0    100000.0  Meadowlands  Crystalhollow          1439.0     10260.0   \n",
       "\n",
       "  ParcelSizeUnit  \n",
       "0           sqft  "
      ]
     },
     "execution_count": 5,
     "metadata": {},
     "output_type": "execute_result"
    }
   ],
   "source": [
    "#loading the data with pandas\n",
    "df = pd.read_csv('set9_it1.csv')\n",
    "df.head(1)"
   ]
  },
  {
   "cell_type": "markdown",
   "metadata": {},
   "source": []
  },
  {
   "cell_type": "markdown",
   "metadata": {},
   "source": [
    "## Cleaning data"
   ]
  },
  {
   "cell_type": "code",
   "execution_count": 8,
   "metadata": {},
   "outputs": [
    {
     "name": "stdout",
     "output_type": "stream",
     "text": [
      "DI                  0\n",
      "TradeValue          0\n",
      "RealmType           0\n",
      "Enclave             0\n",
      "LivingQuarters    117\n",
      "ParcelSize          0\n",
      "ParcelSizeUnit      0\n",
      "dtype: int64\n"
     ]
    }
   ],
   "source": [
    "# Checking for missing values\n",
    "print(df.isna().sum())\n",
    "# deleteing the rows with missing values \n",
    "df.dropna(inplace=True)\n"
   ]
  },
  {
   "cell_type": "code",
   "execution_count": 9,
   "metadata": {},
   "outputs": [],
   "source": [
    "# removes the duplicate rows in place\n",
    "df.drop_duplicates(inplace=True)"
   ]
  },
  {
   "cell_type": "markdown",
   "metadata": {},
   "source": [
    "- check for issues with types\n",
    "- if ParcelSizeUnit is different we need to probably drop and then convert the ParcelSize so they have the same unit"
   ]
  },
  {
   "cell_type": "code",
   "execution_count": 11,
   "metadata": {},
   "outputs": [
    {
     "data": {
      "text/plain": [
       "array(['sqft', 'sqm'], dtype=object)"
      ]
     },
     "execution_count": 11,
     "metadata": {},
     "output_type": "execute_result"
    }
   ],
   "source": [
    "# todo: decide what to do with this fact\n",
    "df[['ParcelSizeUnit']].squeeze().unique()\n",
    "# todo: Convert the ParcelSize sqm and drop the ParcelSizeUnit"
   ]
  },
  {
   "cell_type": "markdown",
   "metadata": {},
   "source": [
    "RealType and Enclave probably have typos\n"
   ]
  },
  {
   "cell_type": "code",
   "execution_count": 13,
   "metadata": {},
   "outputs": [
    {
     "name": "stdout",
     "output_type": "stream",
     "text": [
      "['Meadowlands' 'GnomeBurough' 'ArcaneMarket' 'AetherIsles'\n",
      " 'CitadelQuarter']\n"
     ]
    },
    {
     "data": {
      "text/plain": [
       "['BRIGHTFORGE',\n",
       " 'Brightforge',\n",
       " 'Cloudrest',\n",
       " 'Crystalhollow',\n",
       " 'Dragonspire',\n",
       " 'Dragonspires',\n",
       " 'Dreamweaver',\n",
       " 'Duskwood',\n",
       " 'EMBERFALL',\n",
       " 'Emberfall',\n",
       " 'Glimmerwood',\n",
       " 'MYSTVALE',\n",
       " 'Moonglade',\n",
       " 'Mossheart',\n",
       " 'Mystvale',\n",
       " 'Nighthaven',\n",
       " 'Oakenshade',\n",
       " 'Petalbridge',\n",
       " 'Ravenstone',\n",
       " 'Riverbend',\n",
       " 'SHADOWMERE',\n",
       " 'Shadowmere',\n",
       " 'Silverglen',\n",
       " 'Starfall',\n",
       " 'Stormhold',\n",
       " 'Stormwatch',\n",
       " 'Sunspire',\n",
       " 'Sunspires',\n",
       " 'THORNFIELD',\n",
       " 'Thornfield',\n",
       " 'Verdantia',\n",
       " 'Windwhisper',\n",
       " 'Wolfsbane',\n",
       " 'Wyverncliff',\n",
       " 'dragonspire',\n",
       " 'emberfall',\n",
       " 'glimmerwood',\n",
       " 'silverglen',\n",
       " 'thornfield',\n",
       " 'wyverncliff']"
      ]
     },
     "execution_count": 13,
     "metadata": {},
     "output_type": "execute_result"
    }
   ],
   "source": [
    "# Aparrently not this\n",
    "print(df[['RealmType']].squeeze().unique())\n",
    "\n",
    "# here we clearly have them and some things should be done about it \n",
    "sorted(df[['Enclave']].squeeze().unique())\n",
    "\n",
    "# Cleaning capitalisation "
   ]
  },
  {
   "cell_type": "markdown",
   "metadata": {},
   "source": [
    "# Data understanding"
   ]
  },
  {
   "cell_type": "markdown",
   "metadata": {},
   "source": [
    "Finding min and max value for each numerical row"
   ]
  },
  {
   "cell_type": "code",
   "execution_count": 16,
   "metadata": {},
   "outputs": [
    {
     "name": "stdout",
     "output_type": "stream",
     "text": [
      "TradeValue: max: 755000.0 min: 113.5\n",
      "LivingQuarters: max: 4339.0 min: 256.0\n",
      "ParcelSize: max: 164660.0 min: -17671.0\n"
     ]
    }
   ],
   "source": [
    "print(\"TradeValue: max: \" +  str(df['TradeValue'].max()) + \" min: \" +  str(df['TradeValue'].min()))\n",
    "print(\"LivingQuarters: max: \" +  str(df['LivingQuarters'].max()) + \" min: \" +  str(df['LivingQuarters'].min()))\n",
    "print(\"ParcelSize: max: \" +  str(df['ParcelSize'].max()) + \" min: \" +  str(df['ParcelSize'].min()))"
   ]
  },
  {
   "cell_type": "markdown",
   "metadata": {},
   "source": [
    "Finding Mean, Median and mode for each row if applicable"
   ]
  },
  {
   "cell_type": "code",
   "execution_count": 18,
   "metadata": {},
   "outputs": [
    {
     "name": "stdout",
     "output_type": "stream",
     "text": [
      "mean: \n",
      "TradeValue        180889.207405\n",
      "LivingQuarters      1153.986955\n",
      "ParcelSize          9872.667907\n",
      "dtype: float64\n",
      "\n",
      "\n",
      "median: \n",
      "TradeValue        160000.0\n",
      "LivingQuarters      1110.0\n",
      "ParcelSize          9316.0\n",
      "dtype: float64\n",
      "\n",
      "\n",
      "mode for numerics: \n",
      "TradeValue        135000.0\n",
      "LivingQuarters       664.0\n",
      "ParcelSize          9600.0\n",
      "Name: 0, dtype: float64\n",
      "\n",
      "\n",
      "mode for strings: \n",
      "RealmType    Meadowlands\n",
      "Enclave      Dragonspire\n",
      "Name: 0, dtype: object\n"
     ]
    }
   ],
   "source": [
    "print(\"mean: \")\n",
    "print(df[['TradeValue','LivingQuarters','ParcelSize']].mean())\n",
    "print('\\n')\n",
    "\n",
    "print('median: ')\n",
    "print(df[['TradeValue','LivingQuarters','ParcelSize']].median())\n",
    "print('\\n')\n",
    "\n",
    "print(\"mode for numerics: \")\n",
    "print(df[['TradeValue','LivingQuarters','ParcelSize']].mode().squeeze())\n",
    "print('\\n')\n",
    "print(\"mode for strings: \")\n",
    "print(df[['RealmType','Enclave']].mode().squeeze())\n"
   ]
  },
  {
   "cell_type": "markdown",
   "metadata": {},
   "source": [
    "Distributions"
   ]
  },
  {
   "cell_type": "markdown",
   "metadata": {},
   "source": [
    "- Calculate Variance\n",
    "- Show the distirution using a bell cerve graph \n",
    "- Comment and show on the graph skewedness of the distribution\n"
   ]
  },
  {
   "cell_type": "code",
   "execution_count": null,
   "metadata": {},
   "outputs": [],
   "source": []
  },
  {
   "cell_type": "markdown",
   "metadata": {},
   "source": [
    "Outliers"
   ]
  },
  {
   "cell_type": "markdown",
   "metadata": {},
   "source": [
    "- Detect Outliers by highlighing area on a histogram\n",
    "- Detect Outliers by comparing it to 3 times the stardard devation \n",
    "- Detect Outliers by using 1.5 * IQR also put a box graph for this one so it's visual as well \n",
    "- After all that decide what to do with the outliers and provide reasons "
   ]
  },
  {
   "cell_type": "code",
   "execution_count": null,
   "metadata": {},
   "outputs": [],
   "source": []
  },
  {
   "cell_type": "markdown",
   "metadata": {},
   "source": [
    "Scatter Graphs\n"
   ]
  },
  {
   "cell_type": "markdown",
   "metadata": {},
   "source": [
    "- Create scatter graph to see colleration between LivingQuarters (X) and TradeValue (Y)\n",
    "- Create scatter graph to see colleration between ParcelSize (X) and TradeValue  (Y)\n",
    "- Describe each graph's trends\n"
   ]
  },
  {
   "cell_type": "code",
   "execution_count": null,
   "metadata": {},
   "outputs": [],
   "source": []
  },
  {
   "cell_type": "markdown",
   "metadata": {},
   "source": [
    "Benchmark models"
   ]
  },
  {
   "cell_type": "markdown",
   "metadata": {},
   "source": [
    "- Split into Train and Testing sets \n",
    "- Calculate the mean or median of TradeValue \n",
    "- Calculate the MAE metric and MSE based on that  "
   ]
  },
  {
   "cell_type": "code",
   "execution_count": null,
   "metadata": {},
   "outputs": [],
   "source": []
  },
  {
   "cell_type": "markdown",
   "metadata": {},
   "source": [
    "# Fixed inconsistencies"
   ]
  },
  {
   "cell_type": "markdown",
   "metadata": {},
   "source": [
    "#### Turns small case into capital"
   ]
  },
  {
   "cell_type": "code",
   "execution_count": 29,
   "metadata": {},
   "outputs": [
    {
     "name": "stdout",
     "output_type": "stream",
     "text": [
      "0       Crystalhollow\n",
      "1           Verdantia\n",
      "2            Sunspire\n",
      "3         Dragonspire\n",
      "4            Mystvale\n",
      "            ...      \n",
      "2358         Starfall\n",
      "2359        Stormhold\n",
      "2360        Riverbend\n",
      "2361       Thornfield\n",
      "2362      Petalbridge\n",
      "Name: Enclave, Length: 2223, dtype: object\n"
     ]
    }
   ],
   "source": [
    "df['Enclave'] = df['Enclave'].str.capitalize()\n",
    "print(df['Enclave'])"
   ]
  },
  {
   "cell_type": "markdown",
   "metadata": {},
   "source": [
    "#### Fix misspelling"
   ]
  },
  {
   "cell_type": "code",
   "execution_count": 31,
   "metadata": {},
   "outputs": [
    {
     "data": {
      "text/plain": [
       "['Brightforge',\n",
       " 'Cloudrest',\n",
       " 'Crystalhollow',\n",
       " 'Dragonspire',\n",
       " 'Dragonspires',\n",
       " 'Dreamweaver',\n",
       " 'Duskwood',\n",
       " 'Emberfall',\n",
       " 'Glimmerwood',\n",
       " 'Moonglade',\n",
       " 'Mossheart',\n",
       " 'Mystvale',\n",
       " 'Nighthaven',\n",
       " 'Oakenshade',\n",
       " 'Petalbridge',\n",
       " 'Ravenstone',\n",
       " 'Riverbend',\n",
       " 'Shadowmere',\n",
       " 'Silverglen',\n",
       " 'Starfall',\n",
       " 'Stormhold',\n",
       " 'Stormwatch',\n",
       " 'Sunspire',\n",
       " 'Thornfield',\n",
       " 'Verdantia',\n",
       " 'Windwhisper',\n",
       " 'Wolfsbane',\n",
       " 'Wyverncliff']"
      ]
     },
     "execution_count": 31,
     "metadata": {},
     "output_type": "execute_result"
    }
   ],
   "source": [
    "df['Enclave'] = df['Enclave'].replace('Sunspires', 'Sunspire')\n",
    "sorted(df[['Enclave']].squeeze().unique())"
   ]
  },
  {
   "cell_type": "markdown",
   "metadata": {},
   "source": [
    "#### Convert square feet to square meters"
   ]
  },
  {
   "cell_type": "code",
   "execution_count": 56,
   "metadata": {},
   "outputs": [
    {
     "name": "stdout",
     "output_type": "stream",
     "text": [
      "        DI  TradeValue     RealmType        Enclave  LivingQuarters  \\\n",
      "0        0    100000.0   Meadowlands  Crystalhollow          1439.0   \n",
      "1        1    190000.0   Meadowlands      Verdantia           943.0   \n",
      "2        2    203000.0   Meadowlands       Sunspire           979.0   \n",
      "3        3    146500.0   Meadowlands    Dragonspire          1249.0   \n",
      "4        4    212300.0  GnomeBurough       Mystvale          1501.0   \n",
      "...    ...         ...           ...            ...             ...   \n",
      "2358  2335     89000.0  GnomeBurough       Starfall           729.0   \n",
      "2359  2336    135000.0   Meadowlands      Stormhold          1523.0   \n",
      "2360  2337    470000.0   Meadowlands      Riverbend          1538.0   \n",
      "2361  2338    257000.0   Meadowlands     Thornfield          1780.0   \n",
      "2362  2339     62500.0  GnomeBurough    Petalbridge          1636.0   \n",
      "\n",
      "       ParcelSize ParcelSizeUnit  \n",
      "0      953.184780            sqm  \n",
      "1      359.906222            sqm  \n",
      "2      818.847042            sqm  \n",
      "3     1008.740774            sqm  \n",
      "4      908.591340            sqm  \n",
      "...           ...            ...  \n",
      "2358   156.077040            sqm  \n",
      "2359   725.015012            sqm  \n",
      "2360  1696.501683            sqm  \n",
      "2361  1449.286800            sqm  \n",
      "2362   278.709000            sqm  \n",
      "\n",
      "[2223 rows x 7 columns]\n"
     ]
    }
   ],
   "source": [
    "SQFT_TO_SQM = 0.092903\n",
    "\n",
    "df.loc[df[\"ParcelSizeUnit\"] == \"sqft\", \"ParcelSize\"] *= SQFT_TO_SQM\n",
    "df.loc[df[\"ParcelSizeUnit\"] == \"sqft\", \"ParcelSizeUnit\"] = \"sqm\"\n",
    "\n",
    "print(df)"
   ]
  },
  {
   "cell_type": "code",
   "execution_count": null,
   "metadata": {},
   "outputs": [],
   "source": []
  }
 ],
 "metadata": {
  "kernelspec": {
   "display_name": "Python [conda env:base] *",
   "language": "python",
   "name": "conda-base-py"
  },
  "language_info": {
   "codemirror_mode": {
    "name": "ipython",
    "version": 3
   },
   "file_extension": ".py",
   "mimetype": "text/x-python",
   "name": "python",
   "nbconvert_exporter": "python",
   "pygments_lexer": "ipython3",
   "version": "3.12.7"
  }
 },
 "nbformat": 4,
 "nbformat_minor": 4
}
