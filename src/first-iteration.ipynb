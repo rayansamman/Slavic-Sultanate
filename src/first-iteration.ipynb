{
 "cells": [
  {
   "cell_type": "markdown",
   "metadata": {},
   "source": [
    "# Loading and sorting the data\n",
    "\n",
    "Todo: \n",
    "- Provide description that we are using combination of RealmType and Enclave\n",
    "- Find Ambonmalities and graph\n",
    "- Find and graph missing values"
   ]
  },
  {
   "cell_type": "code",
   "execution_count": 90,
   "metadata": {},
   "outputs": [],
   "source": [
    "import pandas as pd\n",
    "import numpy as np \n",
    "import matplotlib.pyplot as plt\n",
    "from scipy.stats import norm\n",
    "import statistics"
   ]
  },
  {
   "cell_type": "code",
   "execution_count": 4,
   "metadata": {},
   "outputs": [
    {
     "data": {
      "text/html": [
       "<div>\n",
       "<style scoped>\n",
       "    .dataframe tbody tr th:only-of-type {\n",
       "        vertical-align: middle;\n",
       "    }\n",
       "\n",
       "    .dataframe tbody tr th {\n",
       "        vertical-align: top;\n",
       "    }\n",
       "\n",
       "    .dataframe thead th {\n",
       "        text-align: right;\n",
       "    }\n",
       "</style>\n",
       "<table border=\"1\" class=\"dataframe\">\n",
       "  <thead>\n",
       "    <tr style=\"text-align: right;\">\n",
       "      <th></th>\n",
       "      <th>DI</th>\n",
       "      <th>TradeValue</th>\n",
       "      <th>RealmType</th>\n",
       "      <th>Enclave</th>\n",
       "      <th>LivingQuarters</th>\n",
       "      <th>ParcelSize</th>\n",
       "      <th>ParcelSizeUnit</th>\n",
       "    </tr>\n",
       "  </thead>\n",
       "  <tbody>\n",
       "    <tr>\n",
       "      <th>0</th>\n",
       "      <td>0</td>\n",
       "      <td>100000.0</td>\n",
       "      <td>Meadowlands</td>\n",
       "      <td>Crystalhollow</td>\n",
       "      <td>1439.0</td>\n",
       "      <td>10260.0</td>\n",
       "      <td>sqft</td>\n",
       "    </tr>\n",
       "  </tbody>\n",
       "</table>\n",
       "</div>"
      ],
      "text/plain": [
       "   DI  TradeValue    RealmType        Enclave  LivingQuarters  ParcelSize  \\\n",
       "0   0    100000.0  Meadowlands  Crystalhollow          1439.0     10260.0   \n",
       "\n",
       "  ParcelSizeUnit  \n",
       "0           sqft  "
      ]
     },
     "execution_count": 4,
     "metadata": {},
     "output_type": "execute_result"
    }
   ],
   "source": [
    "#loading the data with pandas\n",
    "df = pd.read_csv('set9_it1.csv')\n",
    "df.head(1)"
   ]
  },
  {
   "cell_type": "markdown",
   "metadata": {},
   "source": [
    "## Cleaning data\n",
    "\n",
    "After a lengthy discussion we decided to delete the rows with missing values."
   ]
  },
  {
   "cell_type": "code",
   "execution_count": null,
   "metadata": {
    "jupyter": {
     "source_hidden": true
    }
   },
   "outputs": [],
   "source": [
    "# Checking for missing values\n",
    "df.isna().sum()\n",
    "# todo: decide what to do with the missing values \n",
    "\n"
   ]
  },
  {
   "cell_type": "code",
   "execution_count": null,
   "metadata": {},
   "outputs": [],
   "source": [
    "# removes the duplicate rows in place\n",
    "df.drop_duplicates(inplace=True)"
   ]
  },
  {
   "cell_type": "markdown",
   "metadata": {},
   "source": [
    "- check for issues with types\n",
    "- if ParcelSizeUnit is different we need to probably drop and then convert the ParcelSize so they have the same unit"
   ]
  },
  {
   "cell_type": "code",
   "execution_count": null,
   "metadata": {},
   "outputs": [],
   "source": [
    "# todo: decide what to do with this fact\n",
    "df[['ParcelSizeUnit']].squeeze().unique()"
   ]
  },
  {
   "cell_type": "markdown",
   "metadata": {},
   "source": [
    "RealType and Enclave probably have typos\n"
   ]
  },
  {
   "cell_type": "code",
   "execution_count": null,
   "metadata": {},
   "outputs": [],
   "source": [
    "# Aparrently not this\n",
    "print(df[['RealmType']].squeeze().unique())\n",
    "\n",
    "# here we clearly have them and some things should be done about it \n",
    "sorted(df[['Enclave']].squeeze().unique())\n",
    "\n",
    "# Cleaning capitalisation \n",
    "\n",
    "# "
   ]
  },
  {
   "cell_type": "markdown",
   "metadata": {},
   "source": [
    "# Data understanding"
   ]
  },
  {
   "cell_type": "markdown",
   "metadata": {},
   "source": [
    "Finding min and max value for each numerical row"
   ]
  },
  {
   "cell_type": "code",
   "execution_count": 15,
   "metadata": {},
   "outputs": [
    {
     "name": "stdout",
     "output_type": "stream",
     "text": [
      "TradeValue: max: 755000.0 min: 113.5\n",
      "LivingQuarters: max: 4339.0 min: 256.0\n",
      "ParcelSize: max: 164660.0 min: -26400.0\n"
     ]
    }
   ],
   "source": [
    "print(\"TradeValue: max: \" +  str(df['TradeValue'].max()) + \" min: \" +  str(df['TradeValue'].min()))\n",
    "print(\"LivingQuarters: max: \" +  str(df['LivingQuarters'].max()) + \" min: \" +  str(df['LivingQuarters'].min()))\n",
    "print(\"ParcelSize: max: \" +  str(df['ParcelSize'].max()) + \" min: \" +  str(df['ParcelSize'].min()))"
   ]
  },
  {
   "cell_type": "markdown",
   "metadata": {},
   "source": [
    "Finding Mean, Median and mode for each row if applicable"
   ]
  },
  {
   "cell_type": "code",
   "execution_count": null,
   "metadata": {},
   "outputs": [],
   "source": [
    "print(\"mean: \")\n",
    "print(df[['TradeValue','LivingQuarters','ParcelSize']].mean())\n",
    "print('\\n')\n",
    "\n",
    "print('median: ')\n",
    "print(df[['TradeValue','LivingQuarters','ParcelSize']].median())\n",
    "print('\\n')\n",
    "\n",
    "print(\"mode for numerics: \")\n",
    "print(df[['TradeValue','LivingQuarters','ParcelSize']].mode().squeeze())\n",
    "print('\\n')\n",
    "print(\"mode for strings: \")\n",
    "print(df[['RealmType','Enclave']].mode().squeeze())\n"
   ]
  },
  {
   "cell_type": "markdown",
   "metadata": {},
   "source": [
    "Distributions"
   ]
  },
  {
   "cell_type": "code",
   "execution_count": 80,
   "metadata": {},
   "outputs": [
    {
     "name": "stdout",
     "output_type": "stream",
     "text": [
      "The trade value variance equals to 6814381307.820988\n"
     ]
    }
   ],
   "source": [
    "#Trade Value variance\n",
    "TradeValFrame = df[\"TradeValue\"]\n",
    "\n",
    "TradeValVar = TradeValFrame.std()**2\n",
    "\n",
    "print(\"The trade value variance equals to \" + str(TradeValVar))"
   ]
  },
  {
   "cell_type": "code",
   "execution_count": 200,
   "metadata": {},
   "outputs": [
    {
     "data": {
      "image/png": "[encoded data removed]",
      "text/plain": [
       "<Figure size 600x600 with 1 Axes>"
      ]
     },
     "metadata": {},
     "output_type": "display_data"
    },
    {
     "name": "stdout",
     "output_type": "stream",
     "text": [
      "Skewness: 1.7539430786189978 which constitutes an extremely skewed distribution\n",
      "Trade value is positively skewed with the mode located in the Q3\n"
     ]
    }
   ],
   "source": [
    "#Trade Value bell curve distribution\n",
    "\n",
    "x = TradeValFrame\n",
    "\n",
    "# Fit normal distribution parameters\n",
    "mu, sigma = np.mean(x), np.std(x)\n",
    "\n",
    "# Generate x values for smooth curve\n",
    "x_range = np.linspace(min(x), max(x))\n",
    "\n",
    "# Compute normal distribution PDF\n",
    "y = norm.pdf(x_range, mu, sigma)\n",
    "\n",
    "# Compute Quartiles\n",
    "Q1 = np.percentile(x, 25)  # 1st quartile (25th percentile)\n",
    "Q2 = np.median(x)          # Median (50th percentile)\n",
    "Q3 = np.percentile(x, 75)  # 3rd quartile (75th percentile)\n",
    "\n",
    "# Plot the normal distribution\n",
    "plt.figure(figsize=(6, 6))\n",
    "plt.plot(x_range, y, color='red', label='Normal Distribution')\n",
    "\n",
    "# Add quartile lines\n",
    "plt.axvline(Q1, color='green', linestyle='--', label='Q1 (25%)')\n",
    "plt.axvline(Q2, color='black', linestyle='--', label='Q2 (Median, 50%)')\n",
    "plt.axvline(Q3, color='purple', linestyle='--', label='Q3 (75%)')\n",
    "\n",
    "# Labels and legend\n",
    "plt.ylabel(\"Density\")\n",
    "plt.xlabel(\"Trade Value\")\n",
    "plt.legend()\n",
    "plt.show()\n",
    "\n",
    "#Skewness\n",
    "skewness = TradeValFrame.skew()\n",
    "print(f\"Skewness: {skewness}\" + \" which constitutes an extremely skewed distribution\")\n",
    "print(\"Trade value is positively skewed with the mode located in the Q3\")"
   ]
  },
  {
   "cell_type": "markdown",
   "metadata": {},
   "source": [
    "Outliers"
   ]
  },
  {
   "cell_type": "markdown",
   "metadata": {},
   "source": [
    "- Detect Outliers by highlighing area on a histogram\n",
    "- Detect Outliers by comparing it to 3 times the stardard devation \n",
    "- Detect Outliers by using 1.5 * IQR also put a box graph for this one so it's visual as well \n",
    "- After all that decide what to do with the outliers and provide reasons "
   ]
  },
  {
   "cell_type": "code",
   "execution_count": null,
   "metadata": {},
   "outputs": [],
   "source": []
  },
  {
   "cell_type": "markdown",
   "metadata": {},
   "source": [
    "Scatter Graphs\n"
   ]
  },
  {
   "cell_type": "markdown",
   "metadata": {},
   "source": [
    "- Create scatter graph to see colleration between LivingQuarters (X) and TradeValue (Y)\n",
    "- Create scatter graph to see colleration between ParcelSize (X) and TradeValue  (Y)\n",
    "- Describe each graph's trends\n"
   ]
  },
  {
   "cell_type": "code",
   "execution_count": null,
   "metadata": {},
   "outputs": [],
   "source": []
  },
  {
   "cell_type": "markdown",
   "metadata": {},
   "source": [
    "Benchmark models"
   ]
  },
  {
   "cell_type": "markdown",
   "metadata": {},
   "source": [
    "- Calculate the mean or median of TradeValue for combination of RealType and Enclave\n",
    "- Calculate the MAE metric and MSE based on that  \n",
    "- Split into Train and Testing sets \n",
    "- Do the MAE again... I think"
   ]
  },
  {
   "cell_type": "code",
   "execution_count": 146,
   "metadata": {},
   "outputs": [
    {
     "ename": "TypeError",
     "evalue": "scatter() missing 2 required positional arguments: 'x' and 'y'",
     "output_type": "error",
     "traceback": [
      "\u001b[0;31m---------------------------------------------------------------------------\u001b[0m",
      "\u001b[0;31mTypeError\u001b[0m                                 Traceback (most recent call last)",
      "Cell \u001b[0;32mIn[146], line 1\u001b[0m\n\u001b[0;32m----> 1\u001b[0m plt\u001b[38;5;241m.\u001b[39mscatter(train\u001b[38;5;241m=\u001b[39m\u001b[38;5;241m0.8\u001b[39m)\n\u001b[1;32m      2\u001b[0m plt\u001b[38;5;241m.\u001b[39mshow()\n",
      "\u001b[0;31mTypeError\u001b[0m: scatter() missing 2 required positional arguments: 'x' and 'y'"
     ]
    }
   ],
   "source": [
    "plt.scatter(train=0.8)\n",
    "plt.show()"
   ]
  },
  {
   "cell_type": "code",
   "execution_count": null,
   "metadata": {},
   "outputs": [],
   "source": []
  }
 ],
 "metadata": {
  "kernelspec": {
   "display_name": "Python [conda env:base] *",
   "language": "python",
   "name": "conda-base-py"
  },
  "language_info": {
   "codemirror_mode": {
    "name": "ipython",
    "version": 3
   },
   "file_extension": ".py",
   "mimetype": "text/x-python",
   "name": "python",
   "nbconvert_exporter": "python",
   "pygments_lexer": "ipython3",
   "version": "3.12.7"
  },
  "panel-cell-order": [
   "07285d34",
   "8f6ea2f5",
   "483b7055",
   "8aa04519",
   "ea4c0ee5",
   "032b25fd",
   "efe4a6f1",
   "0db2a246",
   "2ec1ae65",
   "a6935371",
   "7d9e217c",
   "16b2c48d",
   "e4831a26",
   "ba553a34",
   "f7f2a2b3",
   "5780e025",
   "22b2d846",
   "e1b574c4",
   "c0139519",
   "ec452aca"
  ]
 },
 "nbformat": 4,
 "nbformat_minor": 4
}
