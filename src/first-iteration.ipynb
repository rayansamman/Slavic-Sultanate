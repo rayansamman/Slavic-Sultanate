{
 "cells": [
  {
   "cell_type": "markdown",
   "metadata": {},
   "source": [
    "# Loading and sorting the data\n",
    "\n",
    "Todo: \n",
    "- Provide description that we are using combination of RealmType and Enclave\n",
    "- Find Ambonmalities and graph\n",
    "- Find and graph missing values"
   ]
  },
  {
   "cell_type": "code",
   "execution_count": 4,
   "metadata": {},
   "outputs": [],
   "source": [
    "import csv\n",
    "import statistics\n",
    "\n",
    "class Output:\n",
    "\tdef __init__(self,key,mean,median):\n",
    "\t\tself.key = key\n",
    "\t\tself.mean = mean\n",
    "\t\tself.median = median\n",
    "\n",
    "\n",
    "# Define the CSV file path\n",
    "csv_file = \"set9_it1.csv\"  # Change this to your actual file path\n",
    "\n",
    "# Read the CSV file and store data in a list of dictionaries\n",
    "with open(csv_file, mode='r', newline='', encoding='utf-8') as file:\n",
    "\treader = csv.DictReader(file)\n",
    "\tdata = []\n",
    "\tfor row in reader:\n",
    "\t\tdata.append(row)\n",
    "# Initialize empty dictionary for the combination of RealmType and Enclave\n",
    "combinations = {}\n",
    "\n",
    "# Fill the combinations with the combinations and the list of all the values  \n",
    "for entry in data:\n",
    "\tkey = (entry['RealmType'],entry['Enclave'])\n",
    "\tvalue = entry['TradeValue']\n",
    "\t# Cast the values to float before adding them to the dicionary\n",
    "\tif not key in combinations.keys():\n",
    "\t\tcombinations.setdefault(key,[float(value)])\n",
    "\telse:\n",
    "\t\tcombinations[key].append(float(value))\n",
    "# List of outputs\n",
    "output : Output = []\n",
    "\n",
    "# Calculate the mean and median for the each of the combination\t\n",
    "for (key,values) in combinations.items():\n",
    "\tmean = statistics.mean(values)\n",
    "\tmedian = statistics.median(values)\n",
    "\toutput.append(Output(key,mean,median))\n",
    "\n",
    "# Sort the values with the respective keys\n",
    "mean_values = sorted([(out.key,out.mean) for out in  output],key= lambda x: x[1])\n",
    "median_values = sorted([(out.key,out.median) for out in  output],key= lambda x: x[1])\n",
    "\n",
    "\n"
   ]
  },
  {
   "cell_type": "markdown",
   "metadata": {},
   "source": [
    "# Central Tendency\n",
    "\n",
    "- Median: (insert def here) \n",
    "- Mode: (insert def here) \n",
    "- Mean: (insert def here) \n",
    "\n",
    "Todo:\n",
    "- Calculate Mode \n",
    "- Add visualisation for each\n"
   ]
  },
  {
   "cell_type": "code",
   "execution_count": null,
   "metadata": {},
   "outputs": [],
   "source": [
    "# Calculate the mean and median for the each of the combination\t\n",
    "for (key,values) in combinations.items():\n",
    "\tmean = statistics.mean(values)\n",
    "\tmedian = statistics.median(values)\n",
    "\toutput.append(Output(key,mean,median))\n",
    "\n",
    "# Sort the values with the respective keys\n",
    "mean_values = sorted([(out.key,out.mean) for out in  output],key= lambda x: x[1])\n",
    "median_values = sorted([(out.key,out.median) for out in  output],key= lambda x: x[1])"
   ]
  },
  {
   "cell_type": "markdown",
   "metadata": {},
   "source": [
    "\n",
    "#### Put the median to output files sorted"
   ]
  },
  {
   "cell_type": "code",
   "execution_count": 41,
   "metadata": {},
   "outputs": [],
   "source": [
    "output_file = \"outputMedian.csv\"\n",
    "with open(output_file, mode='w', newline='', encoding='utf-8') as file:\n",
    "    writer = csv.writer(file)\n",
    "    writer.writerow([\"Key\", \"Median\"])\n",
    "    for (key_median, median) in  median_values:\n",
    "        writer.writerow([key_median, median])"
   ]
  },
  {
   "cell_type": "markdown",
   "metadata": {},
   "source": [
    "#### Put the means to output files sorted"
   ]
  },
  {
   "cell_type": "code",
   "execution_count": 42,
   "metadata": {},
   "outputs": [],
   "source": [
    "output_file = \"outputMean.csv\"\n",
    "with open(output_file, mode='w', newline='', encoding='utf-8') as file:\n",
    "    writer = csv.writer(file)\n",
    "    writer.writerow([\"Key\", \"Mean\"])\n",
    "    for (key_mean, mean) in  mean_values:\n",
    "        writer.writerow([key_mean, mean])"
   ]
  },
  {
   "cell_type": "markdown",
   "metadata": {},
   "source": [
    "# Distrubutions\n",
    "\n",
    "Todo:\n",
    "- calculate each diviation\n",
    "- visualize the diviation\n",
    "- provide some information about each"
   ]
  },
  {
   "cell_type": "markdown",
   "metadata": {},
   "source": [
    "## Standard diviation"
   ]
  },
  {
   "cell_type": "markdown",
   "metadata": {},
   "source": [
    "# Outliners"
   ]
  },
  {
   "cell_type": "markdown",
   "metadata": {},
   "source": [
    "### Z-Score"
   ]
  },
  {
   "cell_type": "markdown",
   "metadata": {},
   "source": [
    "### IQR"
   ]
  },
  {
   "cell_type": "markdown",
   "metadata": {},
   "source": [
    "### Visual Inspection\n",
    "- Adjusting bin size for histogram"
   ]
  },
  {
   "cell_type": "code",
   "execution_count": 2,
   "metadata": {},
   "outputs": [],
   "source": [
    "## "
   ]
  }
 ],
 "metadata": {
  "kernelspec": {
   "display_name": ".venv",
   "language": "python",
   "name": "python3"
  },
  "language_info": {
   "codemirror_mode": {
    "name": "ipython",
    "version": 3
   },
   "file_extension": ".py",
   "mimetype": "text/x-python",
   "name": "python",
   "nbconvert_exporter": "python",
   "pygments_lexer": "ipython3",
   "version": "3.13.1"
  }
 },
 "nbformat": 4,
 "nbformat_minor": 2
}
