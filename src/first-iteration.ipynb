{
 "cells": [
  {
   "cell_type": "markdown",
   "metadata": {},
   "source": [
    "# Loading and sorting the data\n",
    "\n",
    "Todo: \n",
    "- Provide description that we are using combination of RealmType and Enclave\n",
    "- Find Ambonmalities and graph\n",
    "- Find and graph missing values"
   ]
  },
  {
   "cell_type": "code",
   "execution_count": 1,
   "metadata": {},
   "outputs": [],
   "source": [
    "import pandas as pd\n",
    "import matplotlib.pyplot as plt\n",
    "import statistics"
   ]
  },
  {
   "cell_type": "code",
   "execution_count": null,
   "metadata": {},
   "outputs": [],
   "source": [
    "import csv\n",
    "\n",
    "class Output:\n",
    "\tdef __init__(self,key,mean,median):\n",
    "\t\tself.key = key\n",
    "\t\tself.mean = mean\n",
    "\t\tself.median = median\n",
    "\n",
    "\n",
    "# Define the CSV file path\n",
    "csv_file = \"set9_it1.csv\"  # Change this to your actual file path\n",
    "\n",
    "# Read the CSV file and store data in a list of dictionaries\n",
    "with open(csv_file, mode='r', newline='', encoding='utf-8') as file:\n",
    "\treader = csv.DictReader(file)\n",
    "\tdata = []\n",
    "\tfor row in reader:\n",
    "\t\tdata.append(row)\n",
    "# Initialize empty dictionary for the combination of RealmType and Enclave\n",
    "combinations = {}\n",
    "\n",
    "# Fill the combinations with the combinations and the list of all the values  \n",
    "for entry in data:\n",
    "\tkey = (entry['RealmType'],entry['Enclave'])\n",
    "\tvalue = entry['TradeValue']\n",
    "\t# Cast the values to float before adding them to the dicionary\n",
    "\tif not key in combinations.keys():\n",
    "\t\tcombinations.setdefault(key,[float(value)])\n",
    "\telse:\n",
    "\t\tcombinations[key].append(float(value))\n",
    "# List of outputs\n",
    "output : Output = []\n",
    "\n",
    "# Calculate the mean and median for the each of the combination\t\n",
    "for (key,values) in combinations.items():\n",
    "\tmean = statistics.mean(values)\n",
    "\tmedian = statistics.median(values)\n",
    "\toutput.append(Output(key,mean,median))\n",
    "\n",
    "# Sort the values with the respective keys\n",
    "mean_values = sorted([(out.key,out.mean) for out in  output],key= lambda x: x[1])\n",
    "median_values = sorted([(out.key,out.median) for out in  output],key= lambda x: x[1])\n",
    "\n",
    "\n"
   ]
  },
  {
   "cell_type": "markdown",
   "metadata": {},
   "source": [
    "Panda loading"
   ]
  },
  {
   "cell_type": "code",
   "execution_count": 2,
   "metadata": {},
   "outputs": [
    {
     "data": {
      "text/html": [
       "<div>\n",
       "<style scoped>\n",
       "    .dataframe tbody tr th:only-of-type {\n",
       "        vertical-align: middle;\n",
       "    }\n",
       "\n",
       "    .dataframe tbody tr th {\n",
       "        vertical-align: top;\n",
       "    }\n",
       "\n",
       "    .dataframe thead th {\n",
       "        text-align: right;\n",
       "    }\n",
       "</style>\n",
       "<table border=\"1\" class=\"dataframe\">\n",
       "  <thead>\n",
       "    <tr style=\"text-align: right;\">\n",
       "      <th></th>\n",
       "      <th>DI</th>\n",
       "      <th>TradeValue</th>\n",
       "      <th>RealmType</th>\n",
       "      <th>Enclave</th>\n",
       "      <th>LivingQuarters</th>\n",
       "      <th>ParcelSize</th>\n",
       "      <th>ParcelSizeUnit</th>\n",
       "    </tr>\n",
       "  </thead>\n",
       "  <tbody>\n",
       "  </tbody>\n",
       "</table>\n",
       "</div>"
      ],
      "text/plain": [
       "Empty DataFrame\n",
       "Columns: [DI, TradeValue, RealmType, Enclave, LivingQuarters, ParcelSize, ParcelSizeUnit]\n",
       "Index: []"
      ]
     },
     "execution_count": 2,
     "metadata": {},
     "output_type": "execute_result"
    }
   ],
   "source": [
    "\n",
    "df = pd.read_csv('set9_it1.csv')\n",
    "df.head(0)\n"
   ]
  },
  {
   "cell_type": "code",
   "execution_count": null,
   "metadata": {},
   "outputs": [
    {
     "data": {
      "text/html": [
       "<div>\n",
       "<style scoped>\n",
       "    .dataframe tbody tr th:only-of-type {\n",
       "        vertical-align: middle;\n",
       "    }\n",
       "\n",
       "    .dataframe tbody tr th {\n",
       "        vertical-align: top;\n",
       "    }\n",
       "\n",
       "    .dataframe thead th {\n",
       "        text-align: right;\n",
       "    }\n",
       "</style>\n",
       "<table border=\"1\" class=\"dataframe\">\n",
       "  <thead>\n",
       "    <tr style=\"text-align: right;\">\n",
       "      <th></th>\n",
       "      <th>DI</th>\n",
       "      <th>TradeValue</th>\n",
       "      <th>RealmType</th>\n",
       "      <th>Enclave</th>\n",
       "      <th>LivingQuarters</th>\n",
       "      <th>ParcelSize</th>\n",
       "      <th>ParcelSizeUnit</th>\n",
       "    </tr>\n",
       "  </thead>\n",
       "  <tbody>\n",
       "    <tr>\n",
       "      <th>907</th>\n",
       "      <td>900</td>\n",
       "      <td>82500.0</td>\n",
       "      <td>Meadowlands</td>\n",
       "      <td>Nighthaven</td>\n",
       "      <td>1085.0</td>\n",
       "      <td>11900.00000</td>\n",
       "      <td>sqft</td>\n",
       "    </tr>\n",
       "    <tr>\n",
       "      <th>281</th>\n",
       "      <td>278</td>\n",
       "      <td>84900.0</td>\n",
       "      <td>Meadowlands</td>\n",
       "      <td>Shadowmere</td>\n",
       "      <td>492.0</td>\n",
       "      <td>8777.00000</td>\n",
       "      <td>sqft</td>\n",
       "    </tr>\n",
       "    <tr>\n",
       "      <th>431</th>\n",
       "      <td>426</td>\n",
       "      <td>115000.0</td>\n",
       "      <td>Meadowlands</td>\n",
       "      <td>Duskwood</td>\n",
       "      <td>1133.0</td>\n",
       "      <td>2900.43166</td>\n",
       "      <td>sqm</td>\n",
       "    </tr>\n",
       "    <tr>\n",
       "      <th>956</th>\n",
       "      <td>949</td>\n",
       "      <td>135000.0</td>\n",
       "      <td>GnomeBurough</td>\n",
       "      <td>Petalbridge</td>\n",
       "      <td>903.0</td>\n",
       "      <td>9000.00000</td>\n",
       "      <td>sqft</td>\n",
       "    </tr>\n",
       "    <tr>\n",
       "      <th>2203</th>\n",
       "      <td>2182</td>\n",
       "      <td>113000.0</td>\n",
       "      <td>Meadowlands</td>\n",
       "      <td>Crystalhollow</td>\n",
       "      <td>759.0</td>\n",
       "      <td>21750.00000</td>\n",
       "      <td>sqft</td>\n",
       "    </tr>\n",
       "    <tr>\n",
       "      <th>...</th>\n",
       "      <td>...</td>\n",
       "      <td>...</td>\n",
       "      <td>...</td>\n",
       "      <td>...</td>\n",
       "      <td>...</td>\n",
       "      <td>...</td>\n",
       "      <td>...</td>\n",
       "    </tr>\n",
       "    <tr>\n",
       "      <th>2313</th>\n",
       "      <td>2290</td>\n",
       "      <td>97500.0</td>\n",
       "      <td>Meadowlands</td>\n",
       "      <td>Dragonspire</td>\n",
       "      <td>1121.0</td>\n",
       "      <td>17503.00000</td>\n",
       "      <td>sqft</td>\n",
       "    </tr>\n",
       "    <tr>\n",
       "      <th>819</th>\n",
       "      <td>812</td>\n",
       "      <td>155891.0</td>\n",
       "      <td>Meadowlands</td>\n",
       "      <td>Shadowmere</td>\n",
       "      <td>763.0</td>\n",
       "      <td>8842.00000</td>\n",
       "      <td>sqft</td>\n",
       "    </tr>\n",
       "    <tr>\n",
       "      <th>278</th>\n",
       "      <td>275</td>\n",
       "      <td>118000.0</td>\n",
       "      <td>Meadowlands</td>\n",
       "      <td>Dragonspire</td>\n",
       "      <td>867.0</td>\n",
       "      <td>9000.00000</td>\n",
       "      <td>sqft</td>\n",
       "    </tr>\n",
       "    <tr>\n",
       "      <th>1608</th>\n",
       "      <td>1594</td>\n",
       "      <td>153500.0</td>\n",
       "      <td>Meadowlands</td>\n",
       "      <td>Crystalhollow</td>\n",
       "      <td>775.0</td>\n",
       "      <td>9129.00000</td>\n",
       "      <td>sqft</td>\n",
       "    </tr>\n",
       "    <tr>\n",
       "      <th>2227</th>\n",
       "      <td>2205</td>\n",
       "      <td>119600.0</td>\n",
       "      <td>ArcaneMarket</td>\n",
       "      <td>Mystvale</td>\n",
       "      <td>1531.0</td>\n",
       "      <td>8250.00000</td>\n",
       "      <td>sqft</td>\n",
       "    </tr>\n",
       "  </tbody>\n",
       "</table>\n",
       "<p>1890 rows × 7 columns</p>\n",
       "</div>"
      ],
      "text/plain": [
       "        DI  TradeValue     RealmType        Enclave  LivingQuarters  \\\n",
       "907    900     82500.0   Meadowlands     Nighthaven          1085.0   \n",
       "281    278     84900.0   Meadowlands     Shadowmere           492.0   \n",
       "431    426    115000.0   Meadowlands       Duskwood          1133.0   \n",
       "956    949    135000.0  GnomeBurough    Petalbridge           903.0   \n",
       "2203  2182    113000.0   Meadowlands  Crystalhollow           759.0   \n",
       "...    ...         ...           ...            ...             ...   \n",
       "2313  2290     97500.0   Meadowlands    Dragonspire          1121.0   \n",
       "819    812    155891.0   Meadowlands     Shadowmere           763.0   \n",
       "278    275    118000.0   Meadowlands    Dragonspire           867.0   \n",
       "1608  1594    153500.0   Meadowlands  Crystalhollow           775.0   \n",
       "2227  2205    119600.0  ArcaneMarket       Mystvale          1531.0   \n",
       "\n",
       "       ParcelSize ParcelSizeUnit  \n",
       "907   11900.00000           sqft  \n",
       "281    8777.00000           sqft  \n",
       "431    2900.43166            sqm  \n",
       "956    9000.00000           sqft  \n",
       "2203  21750.00000           sqft  \n",
       "...           ...            ...  \n",
       "2313  17503.00000           sqft  \n",
       "819    8842.00000           sqft  \n",
       "278    9000.00000           sqft  \n",
       "1608   9129.00000           sqft  \n",
       "2227   8250.00000           sqft  \n",
       "\n",
       "[1890 rows x 7 columns]"
      ]
     },
     "execution_count": 16,
     "metadata": {},
     "output_type": "execute_result"
    }
   ],
   "source": [
    "import sklearn.model_selection as md\n",
    "\n",
    "# Make a data split\n",
    "(train_set, test_set) = md.train_test_split(df,test_size=0.2,train_size=0.8)\n",
    "\n",
    "\n",
    "\n",
    "\n",
    "\n"
   ]
  },
  {
   "cell_type": "code",
   "execution_count": 5,
   "metadata": {},
   "outputs": [
    {
     "data": {
      "image/png": "[encoded data removed]",
      "text/plain": [
       "<Figure size 640x480 with 1 Axes>"
      ]
     },
     "metadata": {},
     "output_type": "display_data"
    }
   ],
   "source": [
    "plt.close()\n",
    "\n",
    "\n",
    "plt.scatter(x=df['ParcelSize'],y=df['LivingQuarters'])\n",
    "\n",
    "plt.xlabel('Parcel Size')\n",
    "plt.ylabel('Living Quarters')\n",
    "\n",
    "plt.show()\n",
    "\n"
   ]
  },
  {
   "cell_type": "markdown",
   "metadata": {},
   "source": [
    "# Central Tendency\n",
    "\n",
    "- Median: (insert def here) \n",
    "- Mode: (insert def here) \n",
    "- Mean: (insert def here) \n",
    "\n",
    "Todo:\n",
    "- Calculate Mode \n",
    "- Add visualisation for each\n"
   ]
  },
  {
   "cell_type": "code",
   "execution_count": null,
   "metadata": {},
   "outputs": [],
   "source": [
    "# Calculate the mean and median for the each of the combination\t\n",
    "for (key,values) in combinations.items():\n",
    "\tmean = statistics.mean(values)\n",
    "\tmedian = statistics.median(values)\n",
    "\toutput.append(Output(key,mean,median))\n",
    "\n",
    "# Sort the values with the respective keys\n",
    "mean_values = sorted([(out.key,out.mean) for out in  output],key= lambda x: x[1])\n",
    "median_values = sorted([(out.key,out.median) for out in  output],key= lambda x: x[1])"
   ]
  },
  {
   "cell_type": "markdown",
   "metadata": {},
   "source": [
    "\n",
    "#### Put the median to output files sorted"
   ]
  },
  {
   "cell_type": "code",
   "execution_count": 41,
   "metadata": {},
   "outputs": [],
   "source": [
    "output_file = \"outputMedian.csv\"\n",
    "with open(output_file, mode='w', newline='', encoding='utf-8') as file:\n",
    "    writer = csv.writer(file)\n",
    "    writer.writerow([\"Key\", \"Median\"])\n",
    "    for (key_median, median) in  median_values:\n",
    "        writer.writerow([key_median, median])"
   ]
  },
  {
   "cell_type": "markdown",
   "metadata": {},
   "source": [
    "#### Put the means to output files sorted"
   ]
  },
  {
   "cell_type": "code",
   "execution_count": 42,
   "metadata": {},
   "outputs": [],
   "source": [
    "output_file = \"outputMean.csv\"\n",
    "with open(output_file, mode='w', newline='', encoding='utf-8') as file:\n",
    "    writer = csv.writer(file)\n",
    "    writer.writerow([\"Key\", \"Mean\"])\n",
    "    for (key_mean, mean) in  mean_values:\n",
    "        writer.writerow([key_mean, mean])"
   ]
  },
  {
   "cell_type": "markdown",
   "metadata": {},
   "source": [
    "# Distrubutions\n",
    "\n",
    "Todo:\n",
    "- calculate each diviation\n",
    "- visualize the diviation\n",
    "- provide some information about each"
   ]
  },
  {
   "cell_type": "markdown",
   "metadata": {},
   "source": [
    "## Standard diviation"
   ]
  },
  {
   "cell_type": "markdown",
   "metadata": {},
   "source": [
    "# Outliners"
   ]
  },
  {
   "cell_type": "markdown",
   "metadata": {},
   "source": [
    "### Z-Score"
   ]
  },
  {
   "cell_type": "markdown",
   "metadata": {},
   "source": [
    "### IQR"
   ]
  },
  {
   "cell_type": "markdown",
   "metadata": {},
   "source": [
    "### Visual Inspection\n",
    "- Adjusting bin size for histogram"
   ]
  },
  {
   "cell_type": "code",
   "execution_count": null,
   "metadata": {},
   "outputs": [],
   "source": [
    "\n",
    "\n",
    "\n"
   ]
  }
 ],
 "metadata": {
  "kernelspec": {
   "display_name": ".venv",
   "language": "python",
   "name": "python3"
  },
  "language_info": {
   "codemirror_mode": {
    "name": "ipython",
    "version": 3
   },
   "file_extension": ".py",
   "mimetype": "text/x-python",
   "name": "python",
   "nbconvert_exporter": "python",
   "pygments_lexer": "ipython3",
   "version": "3.13.1"
  }
 },
 "nbformat": 4,
 "nbformat_minor": 2
}
