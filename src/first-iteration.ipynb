{
 "cells": [
  {
   "cell_type": "markdown",
   "metadata": {},
   "source": [
    "# Loading and sorting the data\n",
    "\n",
    "Todo: \n",
    "- Provide description that we are using combination of RealmType and Enclave\n",
    "- Find Ambonmalities and graph\n",
    "- Find and graph missing values"
   ]
  },
  {
   "cell_type": "code",
   "execution_count": 3,
   "metadata": {},
   "outputs": [],
   "source": [
    "import pandas as pd\n",
    "import matplotlib.pyplot as plt\n",
    "import statistics"
   ]
  },
  {
   "cell_type": "code",
   "execution_count": 4,
   "metadata": {},
   "outputs": [
    {
     "data": {
      "text/html": [
       "<div>\n",
       "<style scoped>\n",
       "    .dataframe tbody tr th:only-of-type {\n",
       "        vertical-align: middle;\n",
       "    }\n",
       "\n",
       "    .dataframe tbody tr th {\n",
       "        vertical-align: top;\n",
       "    }\n",
       "\n",
       "    .dataframe thead th {\n",
       "        text-align: right;\n",
       "    }\n",
       "</style>\n",
       "<table border=\"1\" class=\"dataframe\">\n",
       "  <thead>\n",
       "    <tr style=\"text-align: right;\">\n",
       "      <th></th>\n",
       "      <th>DI</th>\n",
       "      <th>TradeValue</th>\n",
       "      <th>RealmType</th>\n",
       "      <th>Enclave</th>\n",
       "      <th>LivingQuarters</th>\n",
       "      <th>ParcelSize</th>\n",
       "      <th>ParcelSizeUnit</th>\n",
       "    </tr>\n",
       "  </thead>\n",
       "  <tbody>\n",
       "    <tr>\n",
       "      <th>0</th>\n",
       "      <td>0</td>\n",
       "      <td>100000.0</td>\n",
       "      <td>Meadowlands</td>\n",
       "      <td>Crystalhollow</td>\n",
       "      <td>1439.0</td>\n",
       "      <td>10260.0</td>\n",
       "      <td>sqft</td>\n",
       "    </tr>\n",
       "  </tbody>\n",
       "</table>\n",
       "</div>"
      ],
      "text/plain": [
       "   DI  TradeValue    RealmType        Enclave  LivingQuarters  ParcelSize  \\\n",
       "0   0    100000.0  Meadowlands  Crystalhollow          1439.0     10260.0   \n",
       "\n",
       "  ParcelSizeUnit  \n",
       "0           sqft  "
      ]
     },
     "execution_count": 4,
     "metadata": {},
     "output_type": "execute_result"
    }
   ],
   "source": [
    "#loading the data with pandas\n",
    "df = pd.read_csv('set9_it1.csv')\n",
    "df.head(1)"
   ]
  },
  {
   "cell_type": "markdown",
   "metadata": {},
   "source": [
    "## Cleaning data"
   ]
  },
  {
   "cell_type": "code",
   "execution_count": 5,
   "metadata": {},
   "outputs": [
    {
     "data": {
      "text/plain": [
       "DI                  0\n",
       "TradeValue          0\n",
       "RealmType           0\n",
       "Enclave             0\n",
       "LivingQuarters    117\n",
       "ParcelSize          0\n",
       "ParcelSizeUnit      0\n",
       "dtype: int64"
      ]
     },
     "execution_count": 5,
     "metadata": {},
     "output_type": "execute_result"
    }
   ],
   "source": [
    "# Checking for missing values\n",
    "df.isna().sum()\n",
    "# todo: decide what to do with the missing values \n",
    "\n"
   ]
  },
  {
   "cell_type": "code",
   "execution_count": 6,
   "metadata": {},
   "outputs": [],
   "source": [
    "# removes the duplicate rows in place\n",
    "df.drop_duplicates(inplace=True)"
   ]
  },
  {
   "cell_type": "markdown",
   "metadata": {},
   "source": [
    "- check for issues with types\n",
    "- if ParcelSizeUnit is different we need to probably drop and then convert the ParcelSize so they have the same unit"
   ]
  },
  {
   "cell_type": "code",
   "execution_count": null,
   "metadata": {},
   "outputs": [
    {
     "data": {
      "text/plain": [
       "array(['sqft', 'sqm'], dtype=object)"
      ]
     },
     "execution_count": 68,
     "metadata": {},
     "output_type": "execute_result"
    }
   ],
   "source": [
    "# todo: decide what to do with this fact\n",
    "df[['ParcelSizeUnit']].squeeze().unique()"
   ]
  },
  {
   "cell_type": "markdown",
   "metadata": {},
   "source": [
    "RealType and Enclave probably have typos\n"
   ]
  },
  {
   "cell_type": "code",
   "execution_count": null,
   "metadata": {},
   "outputs": [
    {
     "name": "stdout",
     "output_type": "stream",
     "text": [
      "['Meadowlands' 'GnomeBurough' 'ArcaneMarket' 'AetherIsles'\n",
      " 'CitadelQuarter']\n"
     ]
    },
    {
     "data": {
      "text/plain": [
       "['BRIGHTFORGE',\n",
       " 'Brightforge',\n",
       " 'Cloudrest',\n",
       " 'Crystalhollow',\n",
       " 'Dragonspire',\n",
       " 'Dragonspires',\n",
       " 'Dreamweaver',\n",
       " 'Duskwood',\n",
       " 'EMBERFALL',\n",
       " 'Emberfall',\n",
       " 'Glimmerwood',\n",
       " 'MYSTVALE',\n",
       " 'Moonglade',\n",
       " 'Mossheart',\n",
       " 'Mystvale',\n",
       " 'Nighthaven',\n",
       " 'Oakenshade',\n",
       " 'Petalbridge',\n",
       " 'Ravenstone',\n",
       " 'Riverbend',\n",
       " 'SHADOWMERE',\n",
       " 'Shadowmere',\n",
       " 'Silverglen',\n",
       " 'Starfall',\n",
       " 'Stormhold',\n",
       " 'Stormwatch',\n",
       " 'Sunspire',\n",
       " 'Sunspires',\n",
       " 'THORNFIELD',\n",
       " 'Thornfield',\n",
       " 'Verdantia',\n",
       " 'Windwhisper',\n",
       " 'Wolfsbane',\n",
       " 'Wyverncliff',\n",
       " 'dragonspire',\n",
       " 'emberfall',\n",
       " 'glimmerwood',\n",
       " 'shadowmere',\n",
       " 'silverglen',\n",
       " 'thornfield',\n",
       " 'wyverncliff']"
      ]
     },
     "execution_count": 12,
     "metadata": {},
     "output_type": "execute_result"
    }
   ],
   "source": [
    "# Aparrently not this\n",
    "print(df[['RealmType']].squeeze().unique())\n",
    "\n",
    "#here we clearly have them and some things should be done about it \n",
    "sorted(df[['Enclave']].squeeze().unique())"
   ]
  },
  {
   "cell_type": "markdown",
   "metadata": {},
   "source": [
    "# Data understanding"
   ]
  },
  {
   "cell_type": "markdown",
   "metadata": {},
   "source": [
    "Finding min and max value for each numerical row"
   ]
  },
  {
   "cell_type": "code",
   "execution_count": 26,
   "metadata": {},
   "outputs": [
    {
     "name": "stdout",
     "output_type": "stream",
     "text": [
      "TradeValue: max: 755000.0 min: 113.5\n",
      "LivingQuarters: max: 4339.0 min: 256.0\n",
      "ParcelSize: max: 164660.0 min: -26400.0\n"
     ]
    }
   ],
   "source": [
    "print(\"TradeValue: max: \" +  str(df['TradeValue'].max()) + \" min: \" +  str(df['TradeValue'].min()))\n",
    "print(\"LivingQuarters: max: \" +  str(df['LivingQuarters'].max()) + \" min: \" +  str(df['LivingQuarters'].min()))\n",
    "print(\"ParcelSize: max: \" +  str(df['ParcelSize'].max()) + \" min: \" +  str(df['ParcelSize'].min()))"
   ]
  },
  {
   "cell_type": "markdown",
   "metadata": {},
   "source": [
    "Finding Mean, Median and mode for each row if applicable"
   ]
  },
  {
   "cell_type": "code",
   "execution_count": 61,
   "metadata": {},
   "outputs": [
    {
     "name": "stdout",
     "output_type": "stream",
     "text": [
      "mean: \n",
      "TradeValue        181184.157291\n",
      "LivingQuarters      1153.986955\n",
      "ParcelSize          9826.716886\n",
      "dtype: float64\n",
      "\n",
      "\n",
      "median: \n",
      "TradeValue        160000.0\n",
      "LivingQuarters      1110.0\n",
      "ParcelSize          9328.5\n",
      "dtype: float64\n",
      "\n",
      "\n",
      "mode for numerics: \n",
      "TradeValue        135000.0\n",
      "LivingQuarters       664.0\n",
      "ParcelSize          9600.0\n",
      "Name: 0, dtype: float64\n",
      "\n",
      "\n",
      "mode for strings: \n",
      "RealmType    Meadowlands\n",
      "Enclave      Dragonspire\n",
      "Name: 0, dtype: object\n"
     ]
    }
   ],
   "source": [
    "print(\"mean: \")\n",
    "print(df[['TradeValue','LivingQuarters','ParcelSize']].mean())\n",
    "print('\\n')\n",
    "\n",
    "print('median: ')\n",
    "print(df[['TradeValue','LivingQuarters','ParcelSize']].median())\n",
    "print('\\n')\n",
    "\n",
    "print(\"mode for numerics: \")\n",
    "print(df[['TradeValue','LivingQuarters','ParcelSize']].mode().squeeze())\n",
    "print('\\n')\n",
    "print(\"mode for strings: \")\n",
    "print(df[['RealmType','Enclave']].mode().squeeze())\n"
   ]
  },
  {
   "cell_type": "markdown",
   "metadata": {},
   "source": [
    "Distributions"
   ]
  },
  {
   "cell_type": "markdown",
   "metadata": {},
   "source": [
    "- Calculate Variance\n",
    "- Show the distirution using a bell cerve graph \n",
    "- Comment and show on the graph skewedness of the distribution\n"
   ]
  },
  {
   "cell_type": "code",
   "execution_count": null,
   "metadata": {},
   "outputs": [],
   "source": []
  },
  {
   "cell_type": "markdown",
   "metadata": {},
   "source": [
    "Outliers"
   ]
  },
  {
   "cell_type": "markdown",
   "metadata": {},
   "source": [
    "- Detect Outliers by highlighing area on a histogram\n",
    "- Detect Outliers by comparing it to 3 times the stardard devation \n",
    "- Detect Outliers by using 1.5 * IQR also put a box graph for this one so it's visual as well \n",
    "- After all that decide what to do with the outliers and provide reasons "
   ]
  },
  {
   "cell_type": "code",
   "execution_count": null,
   "metadata": {},
   "outputs": [],
   "source": []
  },
  {
   "cell_type": "markdown",
   "metadata": {},
   "source": [
    "Scatter Graphs\n"
   ]
  },
  {
   "cell_type": "markdown",
   "metadata": {},
   "source": [
    "- Create scatter graph to see colleration between LivingQuarters (X) and TradeValue (Y)\n",
    "- Create scatter graph to see colleration between ParcelSize (X) and TradeValue  (Y)\n",
    "- Describe each graph's trends\n"
   ]
  },
  {
   "cell_type": "code",
   "execution_count": null,
   "metadata": {},
   "outputs": [],
   "source": []
  },
  {
   "cell_type": "markdown",
   "metadata": {},
   "source": [
    "Benchmark models"
   ]
  },
  {
   "cell_type": "markdown",
   "metadata": {},
   "source": [
    "- Calculate the mean of TradeValue for combination of RealType and Enclave\n",
    "- Calculate the MAE metric based on that \n",
    "- Split into Train and Testing sets\n",
    "- Do the MAE again... I think"
   ]
  },
  {
   "cell_type": "code",
   "execution_count": null,
   "metadata": {},
   "outputs": [],
   "source": []
  }
 ],
 "metadata": {
  "kernelspec": {
   "display_name": ".venv",
   "language": "python",
   "name": "python3"
  },
  "language_info": {
   "codemirror_mode": {
    "name": "ipython",
    "version": 3
   },
   "file_extension": ".py",
   "mimetype": "text/x-python",
   "name": "python",
   "nbconvert_exporter": "python",
   "pygments_lexer": "ipython3",
   "version": "3.12.9"
  }
 },
 "nbformat": 4,
 "nbformat_minor": 2
}
