{
 "cells": [
  {
   "cell_type": "code",
   "execution_count": 2,
   "metadata": {},
   "outputs": [],
   "source": [
    "import pandas as pd\n",
    "import matplotlib.pyplot as plt\n",
    "from matplotlib import rcParams\n",
    "import statistics\n",
    "import numpy as np\n",
    "from sklearn.model_selection import train_test_split\n",
    "from sklearn.metrics import mean_absolute_error, mean_squared_error\n",
    "from scipy.stats import norm\n",
    "import seaborn as sns"
   ]
  },
  {
   "cell_type": "markdown",
   "metadata": {},
   "source": [
    "## Data Understanding"
   ]
  },
  {
   "cell_type": "code",
   "execution_count": 3,
   "metadata": {},
   "outputs": [
    {
     "data": {
      "text/html": [
       "<div>\n",
       "<style scoped>\n",
       "    .dataframe tbody tr th:only-of-type {\n",
       "        vertical-align: middle;\n",
       "    }\n",
       "\n",
       "    .dataframe tbody tr th {\n",
       "        vertical-align: top;\n",
       "    }\n",
       "\n",
       "    .dataframe thead th {\n",
       "        text-align: right;\n",
       "    }\n",
       "</style>\n",
       "<table border=\"1\" class=\"dataframe\">\n",
       "  <thead>\n",
       "    <tr style=\"text-align: right;\">\n",
       "      <th></th>\n",
       "      <th>DI</th>\n",
       "      <th>TradeValue</th>\n",
       "      <th>RealmType</th>\n",
       "      <th>Enclave</th>\n",
       "      <th>LivingQuarters</th>\n",
       "      <th>ParcelSize</th>\n",
       "      <th>ParcelSizeUnit</th>\n",
       "    </tr>\n",
       "  </thead>\n",
       "  <tbody>\n",
       "    <tr>\n",
       "      <th>0</th>\n",
       "      <td>0</td>\n",
       "      <td>100000.0</td>\n",
       "      <td>Meadowlands</td>\n",
       "      <td>Crystalhollow</td>\n",
       "      <td>1439.0</td>\n",
       "      <td>10260.0</td>\n",
       "      <td>sqft</td>\n",
       "    </tr>\n",
       "  </tbody>\n",
       "</table>\n",
       "</div>"
      ],
      "text/plain": [
       "   DI  TradeValue    RealmType        Enclave  LivingQuarters  ParcelSize  \\\n",
       "0   0    100000.0  Meadowlands  Crystalhollow          1439.0     10260.0   \n",
       "\n",
       "  ParcelSizeUnit  \n",
       "0           sqft  "
      ]
     },
     "execution_count": 3,
     "metadata": {},
     "output_type": "execute_result"
    }
   ],
   "source": [
    "#loading the data with pandas\n",
    "df = pd.read_csv('../data/set9_it1.csv')\n",
    "df.head(1)"
   ]
  },
  {
   "cell_type": "code",
   "execution_count": 4,
   "metadata": {},
   "outputs": [
    {
     "name": "stdout",
     "output_type": "stream",
     "text": [
      "DI                  0\n",
      "TradeValue          0\n",
      "RealmType           0\n",
      "Enclave             0\n",
      "LivingQuarters    117\n",
      "ParcelSize          0\n",
      "ParcelSizeUnit      0\n",
      "dtype: int64\n"
     ]
    }
   ],
   "source": [
    "# Checking for missing values\n",
    "print(df.isna().sum())\n"
   ]
  },
  {
   "cell_type": "code",
   "execution_count": 5,
   "metadata": {},
   "outputs": [
    {
     "data": {
      "text/plain": [
       "array(['sqft', 'sqm'], dtype=object)"
      ]
     },
     "execution_count": 5,
     "metadata": {},
     "output_type": "execute_result"
    }
   ],
   "source": [
    "# check for uniqueness\n",
    "df[['ParcelSizeUnit']].squeeze().unique()\n"
   ]
  },
  {
   "cell_type": "markdown",
   "metadata": {},
   "source": [
    "RealType and Enclave probably have typos\n"
   ]
  },
  {
   "cell_type": "code",
   "execution_count": 6,
   "metadata": {},
   "outputs": [
    {
     "name": "stdout",
     "output_type": "stream",
     "text": [
      "['Meadowlands' 'GnomeBurough' 'ArcaneMarket' 'AetherIsles'\n",
      " 'CitadelQuarter']\n",
      "['BRIGHTFORGE', 'Brightforge', 'Cloudrest', 'Crystalhollow', 'Dragonspire', 'Dragonspires', 'Dreamweaver', 'Duskwood', 'EMBERFALL', 'Emberfall', 'Glimmerwood', 'MYSTVALE', 'Moonglade', 'Mossheart', 'Mystvale', 'Nighthaven', 'Oakenshade', 'Petalbridge', 'Ravenstone', 'Riverbend', 'SHADOWMERE', 'Shadowmere', 'Silverglen', 'Starfall', 'Stormhold', 'Stormwatch', 'Sunspire', 'Sunspires', 'THORNFIELD', 'Thornfield', 'Verdantia', 'Windwhisper', 'Wolfsbane', 'Wyverncliff', 'dragonspire', 'emberfall', 'glimmerwood', 'shadowmere', 'silverglen', 'thornfield', 'wyverncliff']\n"
     ]
    }
   ],
   "source": [
    "# VIsually checking for typos and incossitencies in RealmType\n",
    "print(df[['RealmType']].squeeze().unique())\n",
    "\n",
    "# VIsually checking for typos and incossitencies in Enclave\n",
    "print(sorted(df[['Enclave']].squeeze().unique()))\n"
   ]
  },
  {
   "cell_type": "markdown",
   "metadata": {},
   "source": [
    "Finding min and max value for each numerical row"
   ]
  },
  {
   "cell_type": "code",
   "execution_count": 7,
   "metadata": {},
   "outputs": [
    {
     "name": "stdout",
     "output_type": "stream",
     "text": [
      "TradeValue: max: 755000.0 min: 113.5\n",
      "LivingQuarters: max: 4339.0 min: 256.0\n",
      "ParcelSize: max: 164660.0 min: -26400.0\n"
     ]
    }
   ],
   "source": [
    "minTraveValue = df['TradeValue'].min()\n",
    "maxTradeValue = df['TradeValue'].max()\n",
    "print(\"TradeValue: max: \" +  str(maxTradeValue) + \" min: \" +  str(minTraveValue))\n",
    "print(\"LivingQuarters: max: \" +  str(df['LivingQuarters'].max()) + \" min: \" +  str(df['LivingQuarters'].min()))\n",
    "print(\"ParcelSize: max: \" +  str(df['ParcelSize'].max()) + \" min: \" +  str(df['ParcelSize'].min()))"
   ]
  },
  {
   "cell_type": "markdown",
   "metadata": {},
   "source": [
    "Finding Mean, Median and mode for each row if applicable"
   ]
  },
  {
   "cell_type": "code",
   "execution_count": 8,
   "metadata": {},
   "outputs": [
    {
     "name": "stdout",
     "output_type": "stream",
     "text": [
      "mean: \n",
      "TradeValue        180984.511664\n",
      "LivingQuarters      1152.936776\n",
      "ParcelSize          9820.034496\n",
      "dtype: float64\n",
      "\n",
      "\n",
      "median: \n",
      "TradeValue        160000.0\n",
      "LivingQuarters      1110.0\n",
      "ParcelSize          9320.0\n",
      "dtype: float64\n",
      "\n",
      "\n",
      "mode for numerics: \n",
      "   TradeValue  LivingQuarters  ParcelSize\n",
      "0    135000.0           664.0      7200.0\n",
      "1         NaN             NaN      9600.0\n",
      "\n",
      "\n",
      "mode for strings: \n",
      "RealmType    Meadowlands\n",
      "Enclave      Dragonspire\n",
      "Name: 0, dtype: object\n"
     ]
    }
   ],
   "source": [
    "# Store mean and median in variables\n",
    "mean_trade_value = df[\"TradeValue\"].mean()\n",
    "median_trade_value = df[\"TradeValue\"].median()\n",
    "\n",
    "print(\"mean: \")\n",
    "print(df[['TradeValue','LivingQuarters','ParcelSize']].mean())\n",
    "print('\\n')\n",
    "\n",
    "print('median: ')\n",
    "print(df[['TradeValue','LivingQuarters','ParcelSize']].median())\n",
    "print('\\n')\n",
    "\n",
    "print(\"mode for numerics: \")\n",
    "print(df[['TradeValue','LivingQuarters','ParcelSize']].mode().squeeze())\n",
    "print('\\n')\n",
    "print(\"mode for strings: \")\n",
    "print(df[['RealmType','Enclave']].mode().squeeze())\n"
   ]
  },
  {
   "cell_type": "markdown",
   "metadata": {},
   "source": [
    "# Data Preperation"
   ]
  },
  {
   "cell_type": "code",
   "execution_count": 9,
   "metadata": {},
   "outputs": [],
   "source": [
    "# deleteing the rows with missing values \n",
    "df.dropna(inplace=True)"
   ]
  },
  {
   "cell_type": "code",
   "execution_count": 10,
   "metadata": {},
   "outputs": [],
   "source": [
    "# removes the duplicate rows in place\n",
    "df.drop_duplicates(inplace=True)"
   ]
  },
  {
   "cell_type": "code",
   "execution_count": 11,
   "metadata": {},
   "outputs": [],
   "source": [
    "# Cleaning capitalisation \n",
    "df['Enclave'] = df['Enclave'].str.capitalize()"
   ]
  },
  {
   "cell_type": "code",
   "execution_count": 12,
   "metadata": {},
   "outputs": [
    {
     "data": {
      "text/plain": [
       "156.07704"
      ]
     },
     "execution_count": 12,
     "metadata": {},
     "output_type": "execute_result"
    }
   ],
   "source": [
    "# Removing parcelSize below one\n",
    "df.drop(df[df['ParcelSize'] < 1].index, inplace=True)\n",
    "df['ParcelSize'].min()"
   ]
  },
  {
   "cell_type": "code",
   "execution_count": 13,
   "metadata": {},
   "outputs": [
    {
     "data": {
      "text/plain": [
       "['Brightforge',\n",
       " 'Cloudrest',\n",
       " 'Crystalhollow',\n",
       " 'Dragonspire',\n",
       " 'Dreamweaver',\n",
       " 'Duskwood',\n",
       " 'Emberfall',\n",
       " 'Glimmerwood',\n",
       " 'Moonglade',\n",
       " 'Mossheart',\n",
       " 'Mystvale',\n",
       " 'Nighthaven',\n",
       " 'Oakenshade',\n",
       " 'Petalbridge',\n",
       " 'Ravenstone',\n",
       " 'Riverbend',\n",
       " 'Shadowmere',\n",
       " 'Silverglen',\n",
       " 'Starfall',\n",
       " 'Stormhold',\n",
       " 'Stormwatch',\n",
       " 'Sunspire',\n",
       " 'Thornfield',\n",
       " 'Verdantia',\n",
       " 'Windwhisper',\n",
       " 'Wolfsbane',\n",
       " 'Wyverncliff',\n",
       " 'dragonspire']"
      ]
     },
     "execution_count": 13,
     "metadata": {},
     "output_type": "execute_result"
    }
   ],
   "source": [
    "# Replacing typos after manual inspection\n",
    "df['Enclave'] = df['Enclave'].replace('Sunspires', 'Sunspire')\n",
    "df['Enclave'] = df['Enclave'].replace('Dragonspires', 'dragonspire')\n",
    "sorted(df[['Enclave']].squeeze().unique())"
   ]
  },
  {
   "cell_type": "code",
   "execution_count": 14,
   "metadata": {},
   "outputs": [
    {
     "name": "stdout",
     "output_type": "stream",
     "text": [
      "        DI  TradeValue     RealmType        Enclave  LivingQuarters  \\\n",
      "0        0    100000.0   Meadowlands  Crystalhollow          1439.0   \n",
      "1        1    190000.0   Meadowlands      Verdantia           943.0   \n",
      "2        2    203000.0   Meadowlands       Sunspire           979.0   \n",
      "3        3    146500.0   Meadowlands    Dragonspire          1249.0   \n",
      "4        4    212300.0  GnomeBurough       Mystvale          1501.0   \n",
      "...    ...         ...           ...            ...             ...   \n",
      "2358  2335     89000.0  GnomeBurough       Starfall           729.0   \n",
      "2359  2336    135000.0   Meadowlands      Stormhold          1523.0   \n",
      "2360  2337    470000.0   Meadowlands      Riverbend          1538.0   \n",
      "2361  2338    257000.0   Meadowlands     Thornfield          1780.0   \n",
      "2362  2339     62500.0  GnomeBurough    Petalbridge          1636.0   \n",
      "\n",
      "       ParcelSize ParcelSizeUnit  \n",
      "0      953.184780            sqm  \n",
      "1      359.906222            sqm  \n",
      "2      818.847042            sqm  \n",
      "3     1008.740774            sqm  \n",
      "4      908.591340            sqm  \n",
      "...           ...            ...  \n",
      "2358   156.077040            sqm  \n",
      "2359   725.015012            sqm  \n",
      "2360  1696.501683            sqm  \n",
      "2361  1449.286800            sqm  \n",
      "2362   278.709000            sqm  \n",
      "\n",
      "[2204 rows x 7 columns]\n"
     ]
    }
   ],
   "source": [
    "SQFT_TO_SQM = 0.092903\n",
    "\n",
    "df.loc[df[\"ParcelSizeUnit\"] == \"sqft\", \"ParcelSize\"] *= SQFT_TO_SQM\n",
    "df.loc[df[\"ParcelSizeUnit\"] == \"sqft\", \"ParcelSizeUnit\"] = \"sqm\"\n",
    "\n",
    "print(df)"
   ]
  },
  {
   "cell_type": "markdown",
   "metadata": {},
   "source": [
    "---"
   ]
  },
  {
   "cell_type": "markdown",
   "metadata": {},
   "source": [
    "Distributions"
   ]
  },
  {
   "cell_type": "markdown",
   "metadata": {},
   "source": [
    "- Calculate Variance\n",
    "- Show the distirution using a bell cerve graph \n",
    "- Comment and show on the graph skewedness of the distribution\n"
   ]
  },
  {
   "cell_type": "code",
   "execution_count": 15,
   "metadata": {},
   "outputs": [
    {
     "name": "stdout",
     "output_type": "stream",
     "text": [
      "The trade value variance equals to 6668000449.677333\n"
     ]
    }
   ],
   "source": [
    "#Trade Value variance\n",
    "TradeValFrame = df[\"TradeValue\"]\n",
    "\n",
    "TradeValVar = TradeValFrame.std()**2\n",
    "\n",
    "print(\"The trade value variance equals to \" + str(TradeValVar))"
   ]
  },
  {
   "cell_type": "code",
   "execution_count": 16,
   "metadata": {},
   "outputs": [
    {
     "data": {
      "image/png": "[encoded data removed]",
      "text/plain": [
       "<Figure size 600x600 with 1 Axes>"
      ]
     },
     "metadata": {},
     "output_type": "display_data"
    },
    {
     "name": "stdout",
     "output_type": "stream",
     "text": [
      "Skewness: 1.8640103657962097 which constitutes an extremely skewed distribution\n",
      "Trade value is positively skewed with the mode located in the Q3\n"
     ]
    }
   ],
   "source": [
    "#Trade Value bell curve distribution\n",
    "\n",
    "x = TradeValFrame\n",
    "\n",
    "# Fit normal distribution parameters\n",
    "mu, sigma = np.mean(x), np.std(x)\n",
    "\n",
    "# Generate x values for smooth curve\n",
    "x_range = np.linspace(min(x), max(x))\n",
    "\n",
    "# Compute normal distribution PDF\n",
    "y = norm.pdf(x_range, mu, sigma)\n",
    "\n",
    "# Compute Quartiles\n",
    "Q1 = np.percentile(x, 25)  # 1st quartile (25th percentile)\n",
    "Q2 = np.median(x)          # Median (50th percentile)\n",
    "Q3 = np.percentile(x, 75)  # 3rd quartile (75th percentile)\n",
    "\n",
    "# Plot the normal distribution\n",
    "plt.figure(figsize=(6, 6))\n",
    "plt.plot(x_range, y, color='red', label='Normal Distribution')\n",
    "\n",
    "# Add quartile lines\n",
    "plt.axvline(Q1, color='green', linestyle='--', label='Q1 (25%)')\n",
    "plt.axvline(Q2, color='black', linestyle='--', label='Q2 (Median, 50%)')\n",
    "plt.axvline(Q3, color='purple', linestyle='--', label='Q3 (75%)')\n",
    "\n",
    "# Labels and legend\n",
    "plt.ylabel(\"Density\")\n",
    "plt.xlabel(\"Trade Value\")\n",
    "plt.legend()\n",
    "plt.show()\n",
    "\n",
    "#Skewness\n",
    "skewness = TradeValFrame.skew()\n",
    "print(f\"Skewness: {skewness}\" + \" which constitutes an extremely skewed distribution\")\n",
    "print(\"Trade value is positively skewed with the mode located in the Q3\")\n"
   ]
  },
  {
   "cell_type": "markdown",
   "metadata": {},
   "source": [
    "Outliers"
   ]
  },
  {
   "cell_type": "markdown",
   "metadata": {},
   "source": [
    "- Detect Outliers by highlighing area on a histogram\n",
    "- Detect Outliers by comparing it to 3 times the stardard devation \n",
    "- Detect Outliers by using 1.5 * IQR also put a box graph for this one so it's visual as well \n",
    "- After all that decide what to do with the outliers and provide reasons "
   ]
  },
  {
   "cell_type": "markdown",
   "metadata": {},
   "source": [
    "Visual Approach"
   ]
  },
  {
   "cell_type": "code",
   "execution_count": 19,
   "metadata": {},
   "outputs": [
    {
     "data": {
      "image/png": "[encoded data removed]",
      "text/plain": [
       "<Figure size 640x480 with 1 Axes>"
      ]
     },
     "metadata": {},
     "output_type": "display_data"
    }
   ],
   "source": [
    "# Show a histogram with a bucket size of 100\n",
    "plt.hist(df['TradeValue'],100)\n",
    "plt.title(\"Trade values for Realestates\", fontweight='bold')\n",
    "plt.xlabel(\"Trade Value\")\n",
    "plt.ylabel(\"Number of realestates\")\n",
    "\n",
    "xmin , xmax =  plt.xlim()\n",
    "# Hightlight the outliners using spotted values\n",
    "plt.axvspan(700000, xmax , color='red', alpha=0.5)\n",
    "plt.axvspan(xmin, 25000 , color='red', alpha=0.5)\n",
    "# Limit the graph to prevent dynamic correct of x axis\n",
    "plt.xlim(xmin,xmax)\n",
    "plt.show()\n",
    "\n"
   ]
  },
  {
   "cell_type": "markdown",
   "metadata": {},
   "source": [
    "3 times standard diveation"
   ]
  },
  {
   "cell_type": "code",
   "execution_count": null,
   "metadata": {},
   "outputs": [],
   "source": [
    "std = df['TradeValue'].std()\n",
    "mean = df['TradeValue'].mean()\n",
    "\n",
    "plt.hist(df['TradeValue'],100)\n",
    "plt.title(\"Trade values for Realestates\")\n",
    "plt.xlabel(\"Trade Value\")\n",
    "plt.ylabel(\"Number of realestates\")\n",
    "\n",
    "xmin , xmax =  plt.xlim()\n",
    "# Hightlight the outliners using spotted values\n",
    "plt.axvspan(mean+3*std, xmax , color='red', alpha=0.5)\n",
    "plt.axvspan(xmin, mean -3*std, color='red', alpha=0.5)\n",
    "# Limit the graph to prevent dynamic correct of x axis\n",
    "plt.xlim(xmin,xmax)\n",
    "plt.show()\n"
   ]
  },
  {
   "cell_type": "markdown",
   "metadata": {},
   "source": [
    "1.5 * IQR"
   ]
  },
  {
   "cell_type": "code",
   "execution_count": null,
   "metadata": {},
   "outputs": [],
   "source": [
    "\n",
    "Q1 = df['TradeValue'].quantile(0.25)\n",
    "Q3 = df['TradeValue'].quantile(0.75)\n",
    "median = df['TradeValue'].quantile(0.5)\n",
    "IQR = Q3 - Q1\n",
    "\n",
    "plt.boxplot(df['TradeValue'], vert=False)\n",
    "plt.show()\n",
    "\n",
    "\n",
    "plt.hist(df['TradeValue'],100)\n",
    "plt.title(\"Trade values for Realestates\")\n",
    "plt.xlabel(\"Trade Value\")\n",
    "plt.ylabel(\"Number of realestates\")\n",
    "\n",
    "xmin , xmax =  plt.xlim()\n",
    "# Highlight the median with a line\n",
    "plt.axvline(median , color='orange', alpha=1)\n",
    "plt.axvline(Q1, color='yellow', alpha=0.8)\n",
    "plt.axvline(Q3, color='yellow', alpha=0.8)\n",
    "\n",
    "# Hightlight the outliners using spotted values\n",
    "plt.axvspan(Q3+(IQR*1.5), xmax , color='red', alpha=0.5)\n",
    "plt.axvspan(xmin, Q1-(IQR*1.5), color='red', alpha=0.5)\n",
    "# Limit the graph to prevent dynamic correct of x axis\n",
    "plt.xlim(xmin,xmax)\n",
    "plt.show()\n"
   ]
  },
  {
   "cell_type": "markdown",
   "metadata": {},
   "source": [
    "Scatter Graphs\n"
   ]
  },
  {
   "cell_type": "markdown",
   "metadata": {},
   "source": [
    "- Create scatter graph to see colleration between LivingQuarters (X) and TradeValue (Y)\n",
    "- Create scatter graph to see colleration between ParcelSize (X) and TradeValue  (Y)\n",
    "- Describe each graph's trends\n"
   ]
  },
  {
   "cell_type": "code",
   "execution_count": null,
   "metadata": {},
   "outputs": [],
   "source": [
    "rcParams['figure.figsize'] = 8,6\n",
    "plt.scatter(df[\"LivingQuarters\"], df[\"TradeValue\"], c=df[\"TradeValue\"], cmap='Spectral')\n",
    "\n",
    "plt.xlabel(\"LivingQuarters (X)\")\n",
    "plt.ylabel(\"TradeValue (Y)\")\n",
    "plt.title(\"Scatter Plot: LivingQuarters vs. TradeValue\")\n",
    "plt.colorbar()\n",
    "plt.show()"
   ]
  },
  {
   "cell_type": "markdown",
   "metadata": {},
   "source": [
    "There is a positive correlation between the number of LivingQuarters and TradeValue. As the number of LivingQuarters increases, the TradeValue tends to increase."
   ]
  },
  {
   "cell_type": "code",
   "execution_count": null,
   "metadata": {},
   "outputs": [],
   "source": [
    "rcParams['figure.figsize'] = 8,6\n",
    "plt.scatter(df[\"ParcelSize\"], df[\"TradeValue\"], c=df[\"TradeValue\"], cmap='Spectral')\n",
    "\n",
    "plt.xlabel(\"ParcelSize (X)\")\n",
    "plt.ylabel(\"TradeValue (Y)\")\n",
    "plt.title(\"Scatter Plot: ParcelSize vs. TradeValue\")\n",
    "plt.colorbar()\n",
    "plt.show()"
   ]
  },
  {
   "cell_type": "markdown",
   "metadata": {},
   "source": [
    "The relationship between ParcelSize and TradeValue appears less clear compared to LivingQuarters."
   ]
  },
  {
   "cell_type": "markdown",
   "metadata": {},
   "source": [
    "## Modeling"
   ]
  },
  {
   "cell_type": "markdown",
   "metadata": {},
   "source": [
    "Benchmark models"
   ]
  },
  {
   "cell_type": "markdown",
   "metadata": {},
   "source": [
    "- Split into Train and Testing sets \n",
    "- Calculate the mean or median of TradeValue \n",
    "- Calculate the MAE metric and MSE based on that  "
   ]
  },
  {
   "cell_type": "code",
   "execution_count": null,
   "metadata": {},
   "outputs": [],
   "source": [
    "# Split data into Training (80%) and Testing (20%)\n",
    "train_set, test_set = train_test_split(df, test_size=0.2, random_state=42)\n",
    "\n",
    "# Assign the benchmark prediction using median\n",
    "test_set[\"BenchmarkPrediction\"] = median_trade_value\n",
    "\n",
    "#Evaluate the model\n",
    "mae = mean_absolute_error(test_set[\"TradeValue\"], test_set[\"BenchmarkPrediction\"])\n",
    "mse = mean_squared_error(test_set[\"TradeValue\"], test_set[\"BenchmarkPrediction\"])\n",
    "\n",
    "#Print Evaluation Metrics\n",
    "print(f\"Mean Absolute Error (MAE): {mae}\")\n",
    "print(f\"Mean Squared Error (MSE): {mse}\")\n"
   ]
  },
  {
   "cell_type": "markdown",
   "metadata": {},
   "source": [
    "Visualizing Training & Testing Split"
   ]
  },
  {
   "cell_type": "code",
   "execution_count": null,
   "metadata": {},
   "outputs": [],
   "source": [
    "# Define dataset sizes\n",
    "sizes = [train_set.shape[0], test_set.shape[0]]\n",
    "labels = [\"Training Set\", \"Testing Set\"]\n",
    "\n",
    "# Plot the dataset split\n",
    "plt.figure(figsize=(4,4))\n",
    "plt.bar(labels, sizes, color=['yellow', 'purple'])\n",
    "plt.ylabel(\"Number of Records\")\n",
    "plt.title(\"Training vs Testing Dataset Split\")\n",
    "plt.show()"
   ]
  },
  {
   "cell_type": "markdown",
   "metadata": {},
   "source": [
    "Visualizing Benchmark Predictions vs Actual Trade Values\n"
   ]
  },
  {
   "cell_type": "code",
   "execution_count": null,
   "metadata": {},
   "outputs": [],
   "source": [
    "\n",
    "\n",
    "# Scatter plot of actual vs predicted trade values\n",
    "plt.figure(figsize=(6,5))\n",
    "plt.scatter(test_set[\"TradeValue\"], test_set[\"BenchmarkPrediction\"], alpha=0.5, color=\"purple\")\n",
    "plt.xlabel(\"Actual Trade Value\")\n",
    "plt.ylabel(\"Predicted Trade Value\")\n",
    "plt.title(\"Benchmark Model: Predicted vs. Actual Trade Values\")\n",
    "plt.show()\n",
    "\n"
   ]
  },
  {
   "cell_type": "markdown",
   "metadata": {},
   "source": [
    "Visualizing Error Distribution (MAE)"
   ]
  },
  {
   "cell_type": "code",
   "execution_count": null,
   "metadata": {},
   "outputs": [],
   "source": [
    "# Calculate absolute errors\n",
    "errors = abs(test_set[\"TradeValue\"] - test_set[\"BenchmarkPrediction\"])\n",
    "\n",
    "# Plot histogram\n",
    "plt.figure(figsize=(6,4))\n",
    "plt.hist(errors, bins=30, color=\"purple\", alpha=0.7)\n",
    "plt.xlabel(\"Error Amount \")\n",
    "plt.ylabel(\"Frequency\")\n",
    "plt.title(\"Distribution of Absolute Errors (MAE & MSE)\")\n",
    "plt.show()\n"
   ]
  },
  {
   "cell_type": "markdown",
   "metadata": {},
   "source": [
    "Box Plot for Outlier Detection"
   ]
  },
  {
   "cell_type": "code",
   "execution_count": null,
   "metadata": {},
   "outputs": [],
   "source": [
    "# Box plot of errors\n",
    "plt.figure(figsize=(6,4))\n",
    "plt.boxplot(errors, vert=False)\n",
    "plt.xlabel(\"Error Amount\")\n",
    "plt.title(\"Boxplot of Absolute Errors (MAE)\")\n",
    "plt.show()"
   ]
  },
  {
   "cell_type": "markdown",
   "metadata": {},
   "source": [
    "\n",
    "Visualize Mean vs. Median for Decision\n"
   ]
  },
  {
   "cell_type": "code",
   "execution_count": null,
   "metadata": {},
   "outputs": [],
   "source": [
    "# Plot histogram with mean and median\n",
    "plt.figure(figsize=(8,5))\n",
    "sns.histplot(test_set[\"TradeValue\"], bins=30, kde=True, color=\"skyblue\", alpha=0.6)\n",
    "plt.axvline(mean_trade_value, color=\"red\", linestyle=\"dashed\", label=f\"Mean: {int(mean_trade_value)}\")\n",
    "plt.axvline(median_trade_value, color=\"green\", linestyle=\"dashed\", label=f\"Median: {int(median_trade_value)}\")\n",
    "plt.legend()\n",
    "plt.xlabel(\"Trade Value\")\n",
    "plt.ylabel(\"Frequency\")\n",
    "plt.title(\"Distribution of Trade Values with Mean & Median\")\n",
    "plt.show()"
   ]
  },
  {
   "cell_type": "code",
   "execution_count": null,
   "metadata": {},
   "outputs": [],
   "source": [
    "# Export the cleaned data for next iterations\n",
    "df.to_csv('set9_it1CLEANED.csv', index=False)\n"
   ]
  },
  {
   "cell_type": "code",
   "execution_count": null,
   "metadata": {},
   "outputs": [],
   "source": []
  }
 ],
 "metadata": {
  "kernelspec": {
   "display_name": "Python 3 (ipykernel)",
   "language": "python",
   "name": "python3"
  },
  "language_info": {
   "codemirror_mode": {
    "name": "ipython",
    "version": 3
   },
   "file_extension": ".py",
   "mimetype": "text/x-python",
   "name": "python",
   "nbconvert_exporter": "python",
   "pygments_lexer": "ipython3",
   "version": "3.12.7"
  }
 },
 "nbformat": 4,
 "nbformat_minor": 4
}
